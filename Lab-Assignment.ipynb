{
 "cells": [
  {
   "cell_type": "code",
   "execution_count": 2,
   "id": "ba8fe08d",
   "metadata": {},
   "outputs": [
    {
     "name": "stdout",
     "output_type": "stream",
     "text": [
      "Original Dataset:\n",
      "   ID     Name    M1    M2    M3    M4\n",
      "0   1    Bhanu  60.0  76.0  87.0  37.0\n",
      "1   2    Rahul  76.0  67.0  58.0  64.0\n",
      "2   3    Manas  86.0  45.0   NaN  87.0\n",
      "3   4    Saanu  98.0   NaN  33.0  43.0\n",
      "4   5      NaN  47.0  87.0  87.0  67.0\n",
      "5   6    Biswa   NaN  79.0  68.0  56.0\n",
      "6   7    Anshu  56.0  45.0   NaN  83.0\n",
      "7   8  Sourabh   NaN  73.0  47.0   NaN\n",
      "8   9   Subham  88.0  65.0  97.0   NaN\n",
      "9  10      NaN  68.0  48.0  37.0  45.0\n",
      "\n",
      "\n",
      "Modified Dataset:\n",
      "   ID     Name      M1    M2     M3     M4\n",
      "0   1    Bhanu  60.000  76.0  87.00  37.00\n",
      "1   2    Rahul  76.000  67.0  58.00  64.00\n",
      "2   3    Manas  86.000  45.0  64.25  87.00\n",
      "3   4    Saanu  98.000  65.0  33.00  43.00\n",
      "4   5      ABC  47.000  87.0  87.00  67.00\n",
      "5   6    Biswa  72.375  79.0  68.00  56.00\n",
      "6   7    Anshu  56.000  45.0  64.25  83.00\n",
      "7   8  Sourabh  72.375  73.0  47.00  60.25\n",
      "8   9   Subham  88.000  65.0  97.00  60.25\n",
      "9  10      ABC  68.000  48.0  37.00  45.00\n"
     ]
    }
   ],
   "source": [
    "\n",
    "\n",
    "    import pandas as pd\n",
    "    import numpy as np\n",
    "     \n",
    "    file_path = 'Student.csv'\n",
    "    data = pd.read_csv(file_path)\n",
    "    print(\"Original Dataset:\")\n",
    "    print(data)\n",
    "    print(\"\\n\")\n",
    "    data['Name'].fillna('ABC', inplace=True)\n",
    "    means = data[['M1', 'M2', 'M3', 'M4']].apply(pd.to_numeric, errors='coerce').mean()\n",
    "    for col in ['M1', 'M2', 'M3', 'M4']:\n",
    "        data[col] = pd.to_numeric(data[col], errors='coerce').fillna(means[col])\n",
    "    print(\"Modified Dataset:\")\n",
    "    print(data)\n",
    "\n"
   ]
  },
  {
   "cell_type": "code",
   "execution_count": null,
   "id": "88016a92",
   "metadata": {},
   "outputs": [],
   "source": []
  }
 ],
 "metadata": {
  "kernelspec": {
   "display_name": "Python 3 (ipykernel)",
   "language": "python",
   "name": "python3"
  },
  "language_info": {
   "codemirror_mode": {
    "name": "ipython",
    "version": 3
   },
   "file_extension": ".py",
   "mimetype": "text/x-python",
   "name": "python",
   "nbconvert_exporter": "python",
   "pygments_lexer": "ipython3",
   "version": "3.11.3"
  }
 },
 "nbformat": 4,
 "nbformat_minor": 5
}
